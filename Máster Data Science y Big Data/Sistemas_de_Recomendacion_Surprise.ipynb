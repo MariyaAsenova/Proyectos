{
  "nbformat": 4,
  "nbformat_minor": 0,
  "metadata": {
    "colab": {
      "provenance": []
    },
    "kernelspec": {
      "name": "python3",
      "display_name": "Python 3"
    },
    "language_info": {
      "name": "python"
    }
  },
  "cells": [
    {
      "cell_type": "markdown",
      "source": [
        "## Sistemas de Recomendación"
      ],
      "metadata": {
        "id": "atBHMcgeidEo"
      }
    },
    {
      "cell_type": "markdown",
      "source": [
        "***Lo primero que tenemos que hacer para hacer un Sistema de Recomendación es instalar la libreria Surprise.***"
      ],
      "metadata": {
        "id": "5Jp1KtMhijwX"
      }
    },
    {
      "cell_type": "code",
      "execution_count": null,
      "metadata": {
        "colab": {
          "base_uri": "https://localhost:8080/"
        },
        "id": "3-QIA_WjiUgU",
        "outputId": "cba445be-f842-492c-b5b4-7bf673322968"
      },
      "outputs": [
        {
          "output_type": "stream",
          "name": "stdout",
          "text": [
            "Looking in indexes: https://pypi.org/simple, https://us-python.pkg.dev/colab-wheels/public/simple/\n",
            "Collecting scikit-surprise\n",
            "  Downloading scikit-surprise-1.1.3.tar.gz (771 kB)\n",
            "\u001b[?25l     \u001b[90m━━━━━━━━━━━━━━━━━━━━━━━━━━━━━━━━━━━━━━━━\u001b[0m \u001b[32m0.0/772.0 kB\u001b[0m \u001b[31m?\u001b[0m eta \u001b[36m-:--:--\u001b[0m\r\u001b[2K     \u001b[91m━━━━━━━━━━━━━━━━━━━━━━━━━━━━━━━━━━━━━\u001b[0m\u001b[91m╸\u001b[0m \u001b[32m768.0/772.0 kB\u001b[0m \u001b[31m26.5 MB/s\u001b[0m eta \u001b[36m0:00:01\u001b[0m\r\u001b[2K     \u001b[90m━━━━━━━━━━━━━━━━━━━━━━━━━━━━━━━━━━━━━━\u001b[0m \u001b[32m772.0/772.0 kB\u001b[0m \u001b[31m18.9 MB/s\u001b[0m eta \u001b[36m0:00:00\u001b[0m\n",
            "\u001b[?25h  Preparing metadata (setup.py) ... \u001b[?25l\u001b[?25hdone\n",
            "Requirement already satisfied: joblib>=1.0.0 in /usr/local/lib/python3.10/dist-packages (from scikit-surprise) (1.2.0)\n",
            "Requirement already satisfied: numpy>=1.17.3 in /usr/local/lib/python3.10/dist-packages (from scikit-surprise) (1.22.4)\n",
            "Requirement already satisfied: scipy>=1.3.2 in /usr/local/lib/python3.10/dist-packages (from scikit-surprise) (1.10.1)\n",
            "Building wheels for collected packages: scikit-surprise\n",
            "  Building wheel for scikit-surprise (setup.py) ... \u001b[?25l\u001b[?25hdone\n",
            "  Created wheel for scikit-surprise: filename=scikit_surprise-1.1.3-cp310-cp310-linux_x86_64.whl size=3096325 sha256=e6b3522e7f1e4bad1e2781e4900d3d119373523941404b0d84a91f3751d7de47\n",
            "  Stored in directory: /root/.cache/pip/wheels/a5/ca/a8/4e28def53797fdc4363ca4af740db15a9c2f1595ebc51fb445\n",
            "Successfully built scikit-surprise\n",
            "Installing collected packages: scikit-surprise\n",
            "Successfully installed scikit-surprise-1.1.3\n"
          ]
        }
      ],
      "source": [
        "!pip install scikit-surprise"
      ]
    },
    {
      "cell_type": "markdown",
      "source": [
        "***También tenemos que importar las librerías que nos harán falta.***"
      ],
      "metadata": {
        "id": "nifgfeMHjDml"
      }
    },
    {
      "cell_type": "code",
      "source": [
        "import pandas as pd\n",
        "from surprise import KNNBasic, KNNWithMeans\n",
        "from surprise import Dataset\n",
        "from surprise import Reader\n",
        "from surprise import accuracy\n",
        "from surprise.model_selection import train_test_split"
      ],
      "metadata": {
        "id": "mwxAWkiPjNXY"
      },
      "execution_count": null,
      "outputs": []
    },
    {
      "cell_type": "markdown",
      "source": [
        "***Con la Class Reader hacemos la ingesta de datos.***\n",
        "\n",
        "***Con line_format especificamos el formato de cada línea. Tendrá identificador de usuario, identificador de película, calificación dada por el usuario y la marca del tiempo.***\n",
        "\n",
        "***Y el separador en cada línea son ::***"
      ],
      "metadata": {
        "id": "ayl31dzJj9xG"
      }
    },
    {
      "cell_type": "code",
      "source": [
        "reader = Reader(line_format = \"user item rating timestamp\", sep = '::')\n",
        "data = Dataset.load_from_file('/content/ratings.dat', reader = reader)"
      ],
      "metadata": {
        "id": "daJ7e12okDCt"
      },
      "execution_count": null,
      "outputs": []
    },
    {
      "cell_type": "code",
      "source": [
        "type(data)"
      ],
      "metadata": {
        "colab": {
          "base_uri": "https://localhost:8080/"
        },
        "id": "W-PWqQDTpE7Y",
        "outputId": "df12a5f8-707d-4206-a32a-52e0fbf5834b"
      },
      "execution_count": null,
      "outputs": [
        {
          "output_type": "execute_result",
          "data": {
            "text/plain": [
              "surprise.dataset.DatasetAutoFolds"
            ]
          },
          "metadata": {},
          "execution_count": 7
        }
      ]
    },
    {
      "cell_type": "markdown",
      "source": [
        "***Para ver las primeras 5 líneas.***"
      ],
      "metadata": {
        "id": "h9b8-bBerRCW"
      }
    },
    {
      "cell_type": "code",
      "source": [
        "lineas = data.raw_ratings\n",
        "for i in range(5):\n",
        "  print(lineas[i])"
      ],
      "metadata": {
        "colab": {
          "base_uri": "https://localhost:8080/"
        },
        "id": "pb55de-iplyV",
        "outputId": "6ec3f26b-e404-4419-dd07-60a39524d15e"
      },
      "execution_count": null,
      "outputs": [
        {
          "output_type": "stream",
          "name": "stdout",
          "text": [
            "('1', '1193', 5.0, '978300760')\n",
            "('1', '661', 3.0, '978302109')\n",
            "('1', '914', 3.0, '978301968')\n",
            "('1', '3408', 4.0, '978300275')\n",
            "('1', '2355', 5.0, '978824291')\n"
          ]
        }
      ]
    },
    {
      "cell_type": "markdown",
      "source": [
        "***Nos aseguramos de los rangos mínimos y máximos del reiting.***"
      ],
      "metadata": {
        "id": "XjUuD2OetnKA"
      }
    },
    {
      "cell_type": "code",
      "source": [
        "min_rating, max_rating = reader.rating_scale\n",
        "print(f\"El rango minimo es:\",min_rating, \"y el maximo es:\", max_rating)"
      ],
      "metadata": {
        "colab": {
          "base_uri": "https://localhost:8080/"
        },
        "id": "XZxRGOp3tD_j",
        "outputId": "1c34e937-9b53-4e38-8344-997485215d56"
      },
      "execution_count": null,
      "outputs": [
        {
          "output_type": "stream",
          "name": "stdout",
          "text": [
            "El rango minimo es: 1 y el maximo es: 5\n"
          ]
        }
      ]
    },
    {
      "cell_type": "markdown",
      "source": [
        "***Dividimos los datos en train y test, dejando para el test el 30% de los datos.***"
      ],
      "metadata": {
        "id": "t9icD4IPo5gB"
      }
    },
    {
      "cell_type": "code",
      "source": [
        "train, test = train_test_split(data, test_size = 0.3)"
      ],
      "metadata": {
        "id": "w3Y3mGGco9tw"
      },
      "execution_count": null,
      "outputs": []
    },
    {
      "cell_type": "markdown",
      "source": [
        "***Nos basaremos en los algoritmos de vecino más cercano KNNBasic y KNNWithMeans.***\n",
        "\n",
        "***Para el KNN el parámetro k indica el número de vecinos más cercanos a considerar al realizar las predicciones. El parámetro \"sim_options\" se utiliza para configurar las opciones de similitud entre elementos. En este caso, se utiliza la similitud de Pearson para calcular la similitud entre los usuarios. El atributo \"user_name\" se establece en True, lo cual sugiere que se están considerando los nombres de los usuarios en el cálculo de similitud.***\n",
        "\n",
        "***En el modelo KNNWithMeans también se utiliza el algoritmo de vecinos más cercanos, pero con la diferencia de que tiene en cuenta las calificaciones medias de los usuarios (means). El parámetro \"sim_options\" se utiliza para configurar las opciones de similitud entre elementos. En este caso, se utiliza la similitud del coseno para calcular la similitud entre los elementos, y el atributo \"user_based\" se establece en False, lo cual sugiere que se están considerando las similitudes entre los elementos (por ejemplo, películas) en lugar de entre los usuarios.***"
      ],
      "metadata": {
        "id": "d0NVf8gHfYwz"
      }
    },
    {
      "cell_type": "code",
      "source": [
        "knn = KNNBasic(k = 50, sim_options = {'name':'pearson', 'user_name': True})\n",
        "kMeans = KNNWithMeans(k = 50, sim_options= {'name':'cosine', 'user_based': False})"
      ],
      "metadata": {
        "id": "2uSI2HVQpQsA"
      },
      "execution_count": null,
      "outputs": []
    },
    {
      "cell_type": "markdown",
      "source": [
        "***Vamos a entrenar los modelos.***"
      ],
      "metadata": {
        "id": "86uupWybqN6c"
      }
    },
    {
      "cell_type": "code",
      "source": [
        "knn.fit(train)\n",
        "kMeans.fit(train)"
      ],
      "metadata": {
        "colab": {
          "base_uri": "https://localhost:8080/"
        },
        "id": "ONG_DYJHqT44",
        "outputId": "545d54a4-ce6b-470e-b492-3f316acdda46"
      },
      "execution_count": null,
      "outputs": [
        {
          "output_type": "stream",
          "name": "stdout",
          "text": [
            "Computing the pearson similarity matrix...\n",
            "Done computing similarity matrix.\n",
            "Computing the cosine similarity matrix...\n",
            "Done computing similarity matrix.\n"
          ]
        },
        {
          "output_type": "execute_result",
          "data": {
            "text/plain": [
              "<surprise.prediction_algorithms.knns.KNNWithMeans at 0x7fb58d12a110>"
            ]
          },
          "metadata": {},
          "execution_count": 39
        }
      ]
    },
    {
      "cell_type": "markdown",
      "source": [
        "***Vamos a probarlo a mano, para el usuario 42 que cualificación daría para la película 7.***"
      ],
      "metadata": {
        "id": "x0k_Pm8YqehV"
      }
    },
    {
      "cell_type": "code",
      "source": [
        "user_id = 42\n",
        "item_id = 7\n",
        "knn_user_prediction = knn.predict(user_id, item_id)\n",
        "kMeans_user_prediction = kMeans.predict(user_id, item_id)\n",
        "knn_user_prediction\n",
        "kMeans_user_prediction"
      ],
      "metadata": {
        "colab": {
          "base_uri": "https://localhost:8080/"
        },
        "id": "eZvRJj1cqdtf",
        "outputId": "f13d852c-f357-4f99-e8bb-6c78ba996eef"
      },
      "execution_count": null,
      "outputs": [
        {
          "output_type": "execute_result",
          "data": {
            "text/plain": [
              "Prediction(uid=42, iid=7, r_ui=None, est=3.5826213389778703, details={'was_impossible': True, 'reason': 'User and/or item is unknown.'})"
            ]
          },
          "metadata": {},
          "execution_count": 50
        }
      ]
    },
    {
      "cell_type": "markdown",
      "source": [
        "***Vemos que el usuario 42 (uid=42) no ha calificado (r_ui=None) la película 7 (iid=7). La calificación estimada sería de 3.583.***"
      ],
      "metadata": {
        "id": "v0wiWjYN5ReM"
      }
    },
    {
      "cell_type": "markdown",
      "source": [
        "***Calculamos la precision de la predicción. Con KNN acertamos más.***"
      ],
      "metadata": {
        "id": "eRZT2WMN4sLy"
      }
    },
    {
      "cell_type": "code",
      "source": [
        "knn_test_prediction = knn.test(test)\n",
        "kMeans_test_prediction = kMeans.test(test)\n",
        "knn_rmse = accuracy.rmse(knn_test_prediction)\n",
        "kMeans_rmse = accuracy.rmse(kMeans_test_prediction)"
      ],
      "metadata": {
        "colab": {
          "base_uri": "https://localhost:8080/"
        },
        "id": "2yMRi1sZrWa4",
        "outputId": "7c8f6a33-4259-4ba6-c864-d0d00d1ad6be"
      },
      "execution_count": null,
      "outputs": [
        {
          "output_type": "stream",
          "name": "stdout",
          "text": [
            "RMSE: 0.9658\n",
            "RMSE: 0.8985\n"
          ]
        }
      ]
    },
    {
      "cell_type": "code",
      "source": [
        "print(f\"KNN: \", knn_rmse )\n",
        "print(f\"kMeans: \", kMeans_rmse)"
      ],
      "metadata": {
        "colab": {
          "base_uri": "https://localhost:8080/"
        },
        "id": "uAy_-PqIsAT6",
        "outputId": "606bc14e-4561-4877-9d70-cb3b3821549e"
      },
      "execution_count": null,
      "outputs": [
        {
          "output_type": "stream",
          "name": "stdout",
          "text": [
            "KNN:  0.9658255413310246\n",
            "kMeans:  0.8984737027699121\n"
          ]
        }
      ]
    }
  ]
}